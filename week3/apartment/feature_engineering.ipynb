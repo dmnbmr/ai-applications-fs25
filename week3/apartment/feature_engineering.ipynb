{
 "cells": [
  {
   "cell_type": "code",
   "execution_count": 28,
   "metadata": {},
   "outputs": [
    {
     "name": "stdout",
     "output_type": "stream",
     "text": [
      "CV results RMSE: [ -870.  -590.  -806. -1062.  -817.]\n",
      "Mean RMSE: -829.0\n"
     ]
    }
   ],
   "source": [
    "import pandas as pd\n",
    "import numpy as np\n",
    "import pickle\n",
    "from geopy.distance import geodesic\n",
    "from sklearn.ensemble import RandomForestRegressor\n",
    "from sklearn.model_selection import cross_val_score, train_test_split\n",
    "\n",
    "random_forest_model = RandomForestRegressor()\n",
    "\n",
    "# Lade den Datensatz\n",
    "df = pd.read_csv(\"original_apartment_data_analytics_hs24_with_lat_lon.csv\")\n",
    "\n",
    "# Feature 1: Arbeitsmarktattraktivität der Region\n",
    "df[\"employment_ratio\"] = df[\"emp\"] / df[\"pop\"]\n",
    "\n",
    "def calculate_center_distance(row, city_centers):\n",
    "    \"\"\"Berechnet die Entfernung zum Stadtzentrum.\"\"\"\n",
    "    city = row[\"town\"]\n",
    "    if city in city_centers:\n",
    "        center_coords = city_centers[city]\n",
    "        return geodesic((row[\"lat\"], row[\"lon\"]), center_coords).km\n",
    "    return np.nan\n",
    "\n",
    "# Berechnung der Stadtzentren (Mittelwert der Koordinaten pro Stadt)\n",
    "city_centers = df.groupby(\"town\")[[\"lat\", \"lon\"]].mean().to_dict(orient=\"index\")\n",
    "city_centers = {k: (v[\"lat\"], v[\"lon\"]) for k, v in city_centers.items()}\n",
    "\n",
    "# Feature 2: Entfernung zum Stadtzentrum\n",
    "df[\"distance_to_center\"] = df.apply(lambda row: calculate_center_distance(row, city_centers), axis=1)\n",
    "\n",
    "# Speichern des erweiterten Datensatzes\n",
    "df.to_csv(\"enhanced_apartment_data.csv\", index=False)\n",
    "\n",
    "# Auswahl der Features und Target-Variable\n",
    "features = ['rooms', 'area', 'pop', 'pop_dens', 'frg_pct', 'emp', 'tax_income', 'employment_ratio', 'distance_to_center']\n",
    "target = \"price\"\n",
    "X = df[features].dropna()\n",
    "y = df.loc[X.index, target]\n",
    "\n",
    "# Train-Test-Split\n",
    "X_train, X_test, y_train, y_test = train_test_split(X, y, test_size=0.2, random_state=42)\n",
    "\n",
    "# Random Forest Modell mit Cross Validation\n",
    "model = RandomForestRegressor(n_estimators=100, random_state=42)\n",
    "scores = cross_val_score(model, X_train, y_train, cv=5, scoring='r2')\n",
    "\n",
    "# Modell trainieren\n",
    "model.fit(X_train, y_train)\n",
    "\n",
    "# Modell speichern\n",
    "with open(\"apartment_price_model.pkl\", \"wb\") as f:\n",
    "    pickle.dump(model, f)\n",
    "\n",
    "def model_performance(features, df, random_forest_model = RandomForestRegressor(random_state=42)):\n",
    "    df = df.sample(frac=1, random_state=42)\n",
    "    X, y = df[features], df['price']\n",
    "    scores = cross_val_score(random_forest_model, X, y, scoring=\"neg_root_mean_squared_error\", cv=5)\n",
    "    print('CV results RMSE:', np.round(scores))\n",
    "    print('Mean RMSE:', np.mean(np.round(scores, 0)))\n",
    "\n",
    "features = ['rooms', 'area', 'pop', 'pop_dens', 'frg_pct', 'emp', 'tax_income', 'employment_ratio', 'distance_to_center']\n",
    "model_performance(features, df)"
   ]
  }
 ],
 "metadata": {
  "kernelspec": {
   "display_name": "zhaw-da",
   "language": "python",
   "name": "python3"
  },
  "language_info": {
   "codemirror_mode": {
    "name": "ipython",
    "version": 3
   },
   "file_extension": ".py",
   "mimetype": "text/x-python",
   "name": "python",
   "nbconvert_exporter": "python",
   "pygments_lexer": "ipython3",
   "version": "3.11.9"
  }
 },
 "nbformat": 4,
 "nbformat_minor": 2
}
